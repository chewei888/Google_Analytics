{
    "metadata": {
        "kernelspec": {
            "name": "python3",
            "display_name": "Python 3",
            "language": "python"
        },
        "language_info": {
            "name": "python",
            "version": "3.10.9",
            "mimetype": "text/x-python",
            "codemirror_mode": {
                "name": "ipython",
                "version": 3
            },
            "pygments_lexer": "ipython3",
            "nbconvert_exporter": "python",
            "file_extension": ".py"
        },
        "application/vnd.databricks.v1+notebook": {
            "dashboards": [],
            "language": "python",
            "notebookMetadata": {
                "pythonIndentUnit": 4
            },
            "notebookName": "pop_ga_reports",
            "widgets": {}
        }
    },
    "nbformat_minor": 2,
    "nbformat": 4,
    "cells": [
        {
            "cell_type": "markdown",
            "source": [
                "# Define Parameters"
            ],
            "metadata": {
                "application/vnd.databricks.v1+cell": {
                    "cellMetadata": {
                        "byteLimit": 2048000,
                        "rowLimit": 10000
                    },
                    "inputWidgets": {},
                    "nuid": "557786c8-420b-44c6-976d-eee9f2a4d43a",
                    "showTitle": false,
                    "title": ""
                },
                "azdata_cell_guid": "057efccf-02ae-4bfc-b0bd-8b7d2f03a7aa"
            }
        },
        {
            "cell_type": "code",
            "source": [
                "import os\n",
                "\n",
                "# Define input and output parameters\n",
                "OUTPUT_SESSION_TABLE_NAME = os.getenv(\"SQLDB_SESSION\")\n",
                "OUTPUT_CHANNEL_TABLE_NAME = os.getenv(\"SQLDB_CHANNEL\")\n",
                "PROPERTY_IDs = {1:os.getenv(\"GA_US\"), 2:os.getenv(\"GA_UK\"), 3:os.getenv(\"GA_AU\")}"
            ],
            "metadata": {
                "application/vnd.databricks.v1+cell": {
                    "cellMetadata": {
                        "byteLimit": 2048000,
                        "rowLimit": 10000
                    },
                    "inputWidgets": {},
                    "nuid": "d32ddda6-001d-4b48-9648-0de9fde4eeff",
                    "showTitle": false,
                    "title": ""
                },
                "azdata_cell_guid": "8cc7c5b2-4348-4c9b-afaa-9f854afd4d38",
                "language": "python"
            },
            "outputs": [],
            "execution_count": null
        },
        {
            "cell_type": "markdown",
            "source": [
                "#Define Functions"
            ],
            "metadata": {
                "application/vnd.databricks.v1+cell": {
                    "cellMetadata": {
                        "byteLimit": 2048000,
                        "rowLimit": 10000
                    },
                    "inputWidgets": {},
                    "nuid": "af172fa0-326a-4851-961f-8a4d22c71470",
                    "showTitle": false,
                    "title": ""
                },
                "azdata_cell_guid": "c0460307-cb01-49ac-8dcb-0a8ce69b2d24"
            }
        },
        {
            "cell_type": "code",
            "source": [
                "import os\n",
                "import pandas as pd\n",
                "import pyspark.sql.functions as F\n",
                "from google.analytics.data_v1beta import BetaAnalyticsDataClient\n",
                "from google.analytics.data_v1beta.types import (\n",
                "    DateRange,\n",
                "    Dimension,\n",
                "    Metric,\n",
                "    RunReportRequest,\n",
                ")\n",
                "\n",
                "# Set environment variables\n",
                "os.environ['GOOGLE_APPLICATION_CREDENTIALS'] = dbutils.secrets.get(scope=\"azure_key_vault\", key='GA-PW')\n",
                "\n",
                "# Define functions to query report from GA4\n",
                "def query_visits_and_sessions_report(property_id, startDate, endDate):\n",
                "    client = BetaAnalyticsDataClient()\n",
                "\n",
                "    request = RunReportRequest(\n",
                "        property=f\"properties/{property_id}\",\n",
                "        dimensions=[Dimension(name=\"date\")],\n",
                "        metrics=[\n",
                "                 Metric(name=\"totalUsers\"),\n",
                "                 Metric(name=\"sessions\"),\n",
                "                 Metric(name=\"transactions\"),\n",
                "                 Metric(name=\"screenPageViews\"),\n",
                "                ],\n",
                "        date_ranges=[DateRange(start_date=startDate, end_date=endDate)],\n",
                "    )\n",
                "\n",
                "    response = client.run_report(request)\n",
                "\n",
                "    output = []\n",
                "    for row in response.rows:\n",
                "        output.append(\n",
                "            {\n",
                "                \"sales_date\": row.dimension_values[0].value, \n",
                "                \"visits\": row.metric_values[0].value, \n",
                "                \"sessions\": row.metric_values[1].value, \n",
                "                \"checkouts\": row.metric_values[2].value, \n",
                "                \"page_views\": row.metric_values[3].value,\n",
                "            }\n",
                "        )\n",
                "    df = pd.DataFrame(output)\n",
                "    return df\n",
                "\n",
                "def query_channels_acquisition_report(property_id, startDate, endDate):\n",
                "    client = BetaAnalyticsDataClient()\n",
                "\n",
                "    request = RunReportRequest(\n",
                "        property=f\"properties/{property_id}\",\n",
                "        dimensions=[\n",
                "                    Dimension(name=\"date\"),\n",
                "                    Dimension(name=\"sessionDefaultChannelGroup\"),\n",
                "                    Dimension(name=\"transactionId\"),\n",
                "                    ],\n",
                "        metrics=[\n",
                "                #  Metric(name=\"totalUsers\"),\n",
                "                 Metric(name=\"newUsers\"),\n",
                "                 Metric(name=\"sessions\"),\n",
                "                 Metric(name=\"bounceRate\"),\n",
                "                 Metric(name=\"screenPageViewsPerSession\"),\n",
                "                 Metric(name=\"averageSessionDuration\"),\n",
                "                 Metric(name=\"transactionsPerPurchaser\"),\n",
                "                 Metric(name=\"transactions\"),\n",
                "                 Metric(name=\"totalRevenue\"),\n",
                "                 Metric(name=\"screenPageViews\"),\n",
                "                ],\n",
                "        date_ranges=[DateRange(start_date=startDate, end_date=endDate)],\n",
                "    )\n",
                "\n",
                "    response = client.run_report(request)\n",
                "\n",
                "    output = []\n",
                "    for row in response.rows:\n",
                "        output.append(\n",
                "            {\n",
                "                \"sales_date\": row.dimension_values[0].value,\n",
                "                \"channel_grouping\": row.dimension_values[1].value,\n",
                "                \"shopify_order_id\": row.dimension_values[2].value,\n",
                "\n",
                "                # \"users\": row.metric_values[0].value, \n",
                "                \"new_users\": row.metric_values[0].value, \n",
                "                \"sessions\": row.metric_values[1].value, \n",
                "                \"bounce_rate\": row.metric_values[2].value,\n",
                "                \"pages_per_session\": row.metric_values[3].value, \n",
                "                \"avg_session_duration\": row.metric_values[4].value, \n",
                "                \"ecomm_conversion_rate\": row.metric_values[5].value, \n",
                "                \"transactions\": row.metric_values[6].value,\n",
                "                \"revenue\": row.metric_values[7].value, \n",
                "                \"pageviews\": row.metric_values[8].value,\n",
                "            }\n",
                "        )\n",
                "    df = pd.DataFrame(output)\n",
                "    return df"
            ],
            "metadata": {
                "application/vnd.databricks.v1+cell": {
                    "cellMetadata": {
                        "byteLimit": 2048000,
                        "rowLimit": 10000
                    },
                    "inputWidgets": {},
                    "nuid": "88a7857d-d8ca-49d6-ab53-7a920124df16",
                    "showTitle": false,
                    "title": ""
                },
                "azdata_cell_guid": "8f12b14e-a27f-4137-a2c9-814c802901a5",
                "language": "python"
            },
            "outputs": [],
            "execution_count": null
        },
        {
            "cell_type": "markdown",
            "source": [
                "# Load data from GA"
            ],
            "metadata": {
                "application/vnd.databricks.v1+cell": {
                    "cellMetadata": {
                        "byteLimit": 2048000,
                        "rowLimit": 10000
                    },
                    "inputWidgets": {},
                    "nuid": "16a7895f-de1d-43ae-bdc5-4b310e3258de",
                    "showTitle": false,
                    "title": ""
                },
                "azdata_cell_guid": "26b021b3-baa9-4348-81d4-e4ce80639d39"
            }
        },
        {
            "cell_type": "code",
            "source": [
                "# Concat the reports from all sales channels\n",
                "visits_and_sessions_report_dfs = []\n",
                "for sales_channel_id, property_id in PROPERTY_IDs.items():\n",
                "    df = query_visits_and_sessions_report(property_id, \"30daysAgo\", \"yesterday\") #30daysAgo   yesterday\n",
                "    df['sales_channel_id'] = sales_channel_id\n",
                "    visits_and_sessions_report_dfs.append(df)\n",
                "\n",
                "visits_and_sessions_df = pd.concat(visits_and_sessions_report_dfs)\n",
                "\n",
                "channels_acquisition_report_dfs = []\n",
                "for sales_channel_id, property_id in PROPERTY_IDs.items():\n",
                "    df = query_channels_acquisition_report(property_id, \"2daysAgo\", \"yesterday\")\n",
                "    df['sales_channel_id'] = sales_channel_id\n",
                "    channels_acquisition_report_dfs.append(df)\n",
                "\n",
                "channels_acquisition_df = pd.concat(channels_acquisition_report_dfs)"
            ],
            "metadata": {
                "application/vnd.databricks.v1+cell": {
                    "cellMetadata": {
                        "byteLimit": 2048000,
                        "rowLimit": 10000
                    },
                    "inputWidgets": {},
                    "nuid": "af7544d0-6016-4921-8df1-29ba4bab8871",
                    "showTitle": false,
                    "title": ""
                },
                "azdata_cell_guid": "9766e37a-93fa-4877-ae64-fa2f5a44f4c8",
                "language": "python"
            },
            "outputs": [],
            "execution_count": null
        },
        {
            "cell_type": "markdown",
            "source": [
                "#Load the results to DB"
            ],
            "metadata": {
                "application/vnd.databricks.v1+cell": {
                    "cellMetadata": {
                        "byteLimit": 2048000,
                        "rowLimit": 10000
                    },
                    "inputWidgets": {},
                    "nuid": "5499f854-7629-4504-8a70-4ce57c1e816b",
                    "showTitle": false,
                    "title": ""
                },
                "azdata_cell_guid": "cfdfa864-e19f-4fda-992d-e55d630f13ef"
            }
        },
        {
            "cell_type": "code",
            "source": [
                "# Define Azure SQL Database connection\n",
                "jdbcHostname = os.getenv(\"SQLDB_HOST\")\n",
                "user = os.getenv(\"SQLDB_USER\")\n",
                "password = dbutils.secrets.get(scope=\"azure_key_vault\", key='SQLDB-PW') # use Azure Key Vault to save this password. \n",
                "jdbcDatabase = os.getenv(\"SQLDB_DB\")\n",
                "jdbcPort = 1433\n",
                "jdbcUrl = \"jdbc:sqlserver://{0}:{1};database={2}\".format(jdbcHostname, jdbcPort, jdbcDatabase)\n",
                "connectionProperties = {\n",
                "\"user\" : user,\n",
                "\"password\" : password,\n",
                "\"driver\" : \"com.microsoft.sqlserver.jdbc.SQLServerDriver\"\n",
                "}"
            ],
            "metadata": {
                "application/vnd.databricks.v1+cell": {
                    "cellMetadata": {
                        "byteLimit": 2048000,
                        "rowLimit": 10000
                    },
                    "inputWidgets": {},
                    "nuid": "98ac7901-e583-499a-9a43-3b62cba86eeb",
                    "showTitle": false,
                    "title": ""
                },
                "azdata_cell_guid": "6dc0bab0-b5b0-4be1-95c0-d1ab4818564c",
                "language": "python"
            },
            "outputs": [],
            "execution_count": null
        },
        {
            "cell_type": "code",
            "source": [
                "# Get the current Pacific Time\n",
                "current_timestamp_pt = F.from_utc_timestamp(F.current_timestamp(), \"America/Los_Angeles\")\n",
                "\n",
                "# Output the results with the timestamp\n",
                "spark_visits_and_sessions_df = spark.createDataFrame(visits_and_sessions_df).withColumn('RecordCreatedDate', current_timestamp_pt)\n",
                "spark_channels_acquisition_df = spark.createDataFrame(channels_acquisition_df).withColumn('RecordCreatedDate', current_timestamp_pt)\n",
                "\n",
                "# Save the results into Azure SQL Database\n",
                "spark_visits_and_sessions_df.write.jdbc(url=jdbcUrl, table=OUTPUT_SESSION_TABLE_NAME, mode = \"overwrite\", properties=connectionProperties)\n",
                "spark_channels_acquisition_df.write.jdbc(url=jdbcUrl, table=OUTPUT_CHANNEL_TABLE_NAME, mode = \"overwrite\", properties=connectionProperties)"
            ],
            "metadata": {
                "application/vnd.databricks.v1+cell": {
                    "cellMetadata": {
                        "byteLimit": 2048000,
                        "rowLimit": 10000
                    },
                    "inputWidgets": {},
                    "nuid": "b1db1c99-e857-45a4-9d52-bb6e65d87209",
                    "showTitle": false,
                    "title": ""
                },
                "azdata_cell_guid": "c64be276-6010-4513-a4b4-f63725f40e5f",
                "language": "python"
            },
            "outputs": [],
            "execution_count": null
        },
        {
            "cell_type": "markdown",
            "source": [
                "#References"
            ],
            "metadata": {
                "application/vnd.databricks.v1+cell": {
                    "cellMetadata": {
                        "byteLimit": 2048000,
                        "rowLimit": 10000
                    },
                    "inputWidgets": {},
                    "nuid": "8ee6db10-84a2-4138-9f29-f14ab66d587a",
                    "showTitle": false,
                    "title": ""
                },
                "azdata_cell_guid": "1f532ad8-cf20-4f24-81fa-883a0c5b3bc0"
            }
        },
        {
            "cell_type": "markdown",
            "source": [
                "https://developers.google.com/analytics/devguides/reporting/data/v1/quickstart-client-libraries#python\n",
                "\n",
                "https://automation-help.com/google-analytics-data-api-ga4-with-python-extensive-guide/\n",
                "\n",
                "https://www.lupagedigital.com/blog/google-analytics-api-python/"
            ],
            "metadata": {
                "application/vnd.databricks.v1+cell": {
                    "cellMetadata": {
                        "byteLimit": 2048000,
                        "rowLimit": 10000
                    },
                    "inputWidgets": {},
                    "nuid": "a7391e3c-9611-4f81-8520-c85528b18338",
                    "showTitle": false,
                    "title": ""
                },
                "azdata_cell_guid": "b19a6ad7-18fd-408d-b6ca-03a9be525f00"
            }
        }
    ]
}